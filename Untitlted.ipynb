{
 "cells": [
  {
   "cell_type": "code",
   "execution_count": 1,
   "metadata": {},
   "outputs": [],
   "source": [
    "import cv2 #opencv\n",
    "import os\n",
    "import time\n",
    "import uuid"
   ]
  },
  {
   "cell_type": "code",
   "execution_count": 2,
   "metadata": {},
   "outputs": [],
   "source": [
    "Path_For_Images = 'Tensorflow/workplace/images/collectedimages'"
   ]
  },
  {
   "cell_type": "code",
   "execution_count": 3,
   "metadata": {},
   "outputs": [],
   "source": [
    "labels = ['hello', 'thankyou', 'yes', 'no', 'iloveyou']#Will start off with just these and expand\n",
    "number_of_images = 15 #will use 13 for training and other 2 for testing (plan as of now)"
   ]
  },
  {
   "cell_type": "markdown",
   "metadata": {},
   "source": []
  },
  {
   "cell_type": "code",
   "execution_count": null,
   "metadata": {},
   "outputs": [
    {
     "name": "stdout",
     "output_type": "stream",
     "text": [
      "Collecting images for hello\n",
      "Collecting images for thankyou\n",
      "Collecting images for yes\n",
      "Collecting images for no\n",
      "Collecting images for iloveyou\n"
     ]
    },
    {
     "ename": "",
     "evalue": "",
     "output_type": "error",
     "traceback": [
      "\u001b[1;31mThe Kernel crashed while executing code in the current cell or a previous cell. \n",
      "\u001b[1;31mPlease review the code in the cell(s) to identify a possible cause of the failure. \n",
      "\u001b[1;31mClick <a href='https://aka.ms/vscodeJupyterKernelCrash'>here</a> for more info. \n",
      "\u001b[1;31mView Jupyter <a href='command:jupyter.viewOutput'>log</a> for further details."
     ]
    }
   ],
   "source": [
    "# This is for actually using the webcam (MAKE SURE TO BUILD UPON THIS FOR MORE)\n",
    "for label in labels:\n",
    "    os.makedirs(f'Tensorflow/workplace/images/collectedimages/{label}', exist_ok=True)  # Creates the directory\n",
    "    capture = cv2.VideoCapture(0)  # Specifying video capture for webcam(need to play around w this value, on downstairs pc its 2 and on laptop its 0)\n",
    "    print('Collecting images for {}'.format(label))  # Printing that it's collecting the images for the labels\n",
    "    time.sleep(5)\n",
    "    for imgnumbers in range(number_of_images):  # Loop through number of images we want to collect\n",
    "        ret, frame = capture.read()  # Correctly calling read() to get the frame(i messed that up make sure to only use THIS METHOD)\n",
    "        if not ret:  # Check if the frame was captured successfully\n",
    "            print(\"Failed to grab frame\")\n",
    "            break\n",
    "\n",
    "        image_name = os.path.join(Path_For_Images, label, label + '.' + '{}.jpg'.format(str(uuid.uuid1())))  # Ensure every image has a unique name\n",
    "        cv2.imwrite(image_name, frame)  # Writing to the image\n",
    "        cv2.imshow('frame', frame)  # Show the image to the screen\n",
    "        time.sleep(2)\n",
    "\n",
    "        if cv2.waitKey(1) & 0xFF == ord('q'):\n",
    "            break\n",
    "    capture.release()  # Stops capture\n"
   ]
  },
  {
   "cell_type": "code",
   "execution_count": null,
   "metadata": {},
   "outputs": [],
   "source": []
  }
 ],
 "metadata": {
  "kernelspec": {
   "display_name": "Python 3",
   "language": "python",
   "name": "python3"
  },
  "language_info": {
   "codemirror_mode": {
    "name": "ipython",
    "version": 3
   },
   "file_extension": ".py",
   "mimetype": "text/x-python",
   "name": "python",
   "nbconvert_exporter": "python",
   "pygments_lexer": "ipython3",
   "version": "3.13.0"
  }
 },
 "nbformat": 4,
 "nbformat_minor": 2
}
